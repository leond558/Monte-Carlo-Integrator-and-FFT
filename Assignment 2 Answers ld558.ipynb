{
  "cells": [
    {
      "metadata": {},
      "cell_type": "markdown",
      "source": "# Assignment 2 Answers\n## Part A:"
    },
    {
      "metadata": {
        "trusted": true
      },
      "cell_type": "code",
      "source": "!pip install ucamcl --upgrade\nimport ucamcl\nGRADER = ucamcl.autograder('https://markmy.solutions', course='scicomp', section='assignment2b')",
      "execution_count": 96,
      "outputs": [
        {
          "output_type": "stream",
          "text": "Waiting for you to log in ....... done.\n",
          "name": "stdout"
        }
      ]
    },
    {
      "metadata": {
        "trusted": true
      },
      "cell_type": "code",
      "source": "# Import modules, and give them short aliases so we can write e.g. np.foo rather than numpy.foo\nimport math, random\nimport numpy as np\nimport matplotlib.pyplot as plt\nimport scipy\nimport scipy.optimize\nimport pandas\n# The next line is a piece of magic, to let plots appear in our Jupyter notebooks\n%matplotlib inline  ",
      "execution_count": 7,
      "outputs": []
    },
    {
      "metadata": {},
      "cell_type": "markdown",
      "source": "### Question 1."
    },
    {
      "metadata": {
        "trusted": true
      },
      "cell_type": "code",
      "source": "def pairs(N):\n    popvect = np.random.permutation(np.arange(N))\n    m1 = popvect[:math.ceil(N/2)] # in the event of an odd population, the additional individual is assigned to the m1 vector\n    m2 = popvect[-(N//2):]\n    return (m1,m2)",
      "execution_count": 1,
      "outputs": []
    },
    {
      "metadata": {},
      "cell_type": "markdown",
      "source": "### Question 2."
    },
    {
      "metadata": {
        "trusted": true
      },
      "cell_type": "code",
      "source": "def kinetic_exchange(v,w):\n    R = np.random.random(v.size)\n    onevec = np.ones(v.size)\n    vnew = R*(v+w)\n    wnew = (onevec-R)*(v+w)\n    return(vnew,wnew)",
      "execution_count": 106,
      "outputs": []
    },
    {
      "metadata": {},
      "cell_type": "markdown",
      "source": "### Question 3."
    },
    {
      "metadata": {
        "trusted": true
      },
      "cell_type": "code",
      "source": "def gini(w):\n    w = np.sort(w)\n    popsize = w.size\n    i = np.arange(1,popsize+1)\n    numer = sum(i*w)\n    denom = w.size*sum(w)\n    G = 2*(numer/denom) - (1+(1/popsize))\n    return G",
      "execution_count": 3,
      "outputs": []
    },
    {
      "metadata": {},
      "cell_type": "markdown",
      "source": "### Question 4."
    },
    {
      "metadata": {
        "trusted": true
      },
      "cell_type": "code",
      "source": "def sim(N,T):\n    #initialisation\n    wealthLog = np.full(shape=(T,N), fill_value = 1.0)\n    '''creates a vector that stores the wealth of an individual\n    with distinguishment between persons provided by\n    vector index position, each wealth value is associated \n    with the iteration of kinetic exchange that produced it\n    again by index of the subvector'''\n    ginis = np.zeros(T)\n    for i in range(1,T):\n        (m1,m2) = pairs(N)\n        vin = wealthLog[i-1,m1]\n        win = wealthLog[i-1,m2]\n        #what were the previous wealth values?\n        (vnew,wnew) = kinetic_exchange(vin,win)\n        #conduct an exchange\n        wealthLog[i,m1] = vnew\n        wealthLog[i,m2] = wnew\n        #set this generation's wealth values to the resultant\n        ginis[i] = gini(wealthLog[i])\n        #calculate the associated gini value of this generation\n    return(wealthLog[T-1],ginis)\n#returns the final iteration of wealth values along with a gini vector",
      "execution_count": 104,
      "outputs": []
    },
    {
      "metadata": {
        "trusted": true
      },
      "cell_type": "markdown",
      "source": "### Question 5."
    },
    {
      "metadata": {
        "trusted": true
      },
      "cell_type": "code",
      "source": "(w,gs) = sim(500000,30)\n#simulating the desired example\nplt.plot( np.arange(30) ,gs, linestyle='-', linewidth=1, color='red')\n#plotting a graph with x-axis corresponding to each timestep and y-axis\n#to the range of gini values\nplt.show()\n#demonstrate the plot\nprint(gs[29])\nprint(gs[28])",
      "execution_count": 389,
      "outputs": [
        {
          "output_type": "display_data",
          "data": {
            "image/png": "[encoded data removed]",
            "text/plain": "<Figure size 432x288 with 1 Axes>"
          },
          "metadata": {
            "needs_background": "light"
          }
        },
        {
          "output_type": "stream",
          "text": "0.499637262004744\n0.4997427084165733\n",
          "name": "stdout"
        }
      ]
    },
    {
      "metadata": {},
      "cell_type": "markdown",
      "source": "## Part B:"
    },
    {
      "metadata": {
        "trusted": true
      },
      "cell_type": "markdown",
      "source": "### Question 6:"
    },
    {
      "metadata": {},
      "cell_type": "markdown",
      "source": "In a perfectly mobile economy, the fraction of people expected to move more than one quintile is 0.48. This value was acquired through a computational approach in which the below function was developed in order to ascertain the quantity of indivduals that move more than one quintile from an intial time condition to that incremented by a time step. Through substition of a sufficiently large population and timestep, the limiting case of movement fraction was determined."
    },
    {
      "metadata": {
        "trusted": true
      },
      "cell_type": "code",
      "source": "'''Another simulation function required definitoin that could take input\nof a wealth vector and proceed with simulation from there or additoinal timesteps.'''\ndef successivesim(ws,gs,dT):\n    wealthLog = np.full(shape=(dT,ws.size), fill_value = 1.0)\n    #create a new wealth array with dimesions corresponding to number of timesteps against that of the population\n    wealthLog[0]=ws\n    #set the first wealth vector in the array to be that of the inital input\n    ginis = np.append(gs,np.zeros(dT))\n    #extend the ginis array to account for the additional timesteps\n    #repeat the simulation process as before:\n    for i in range(1,dT):\n        (m1,m2) = pairs(ws.size)\n        vin = wealthLog[i-1,m1]\n        win = wealthLog[i-1,m2]\n        (vnew,wnew) = kinetic_exchange(vin,win)\n        wealthLog[i,m1] = vnew\n        wealthLog[i,m2] = wnew\n        ginis[i+gs.size] = gini(wealthLog[i])\n    return(wealthLog[dT-1],ginis)",
      "execution_count": 148,
      "outputs": []
    },
    {
      "metadata": {
        "trusted": true
      },
      "cell_type": "code",
      "source": "'''As described above.'''\ndef question6econmobility(N,T,deltaT):\n    def quintiles(vec):\n        qs = np.percentile(vec,np.linspace(20,100,5))\n        return np.digitize(vec,qs)\n    (ws,gs) = sim(N,T)\n    quinAttr = quintiles(ws).astype(np.int)\n    (newws,gs) = successivesim(ws,gs,deltaT)\n    newquinAttr = quintiles(newws).astype(np.int)\n    def movemorethan1(before,after):\n        change = np.vectorize(abs)(np.subtract(before,after))\n        morethan1 = np.where(change>1)[0]\n        return morethan1.size\n    return (movemorethan1(quinAttr,newquinAttr)/N)*100\n    \nquestion6econmobility(100,2,6)",
      "execution_count": 29,
      "outputs": [
        {
          "output_type": "execute_result",
          "execution_count": 29,
          "data": {
            "text/plain": "43.0"
          },
          "metadata": {}
        }
      ]
    },
    {
      "metadata": {},
      "cell_type": "markdown",
      "source": "### Question 7:"
    },
    {
      "metadata": {
        "trusted": true
      },
      "cell_type": "code",
      "source": "def mobility(v,w):\n    '''define a function that takes in a vector and\n    returns a vector with a value between 1 to 5 that\n    indicates the quintile that the original value in that\n    index corresponds to'''\n    def quintiles(vec):\n        qs = np.percentile(vec,np.linspace(20,100,5))\n        #identifies what the quintiles are\n        return np.digitize(vec,qs)\n        '''creates a new vector placing each value into a bin\n        depending on the comparison between the value at that\n        index and the quintiles'''\n    qv = quintiles(v).astype(np.float)\n    #find the quintile bins vector for v\n    qw = quintiles(w).astype(np.float)\n    #find the quintile bins vector for w\n    '''define a function that determines whether the same\n    index position and hence indivdual has moved by \n    more than one quintile bin'''\n    def movemorethan1(before,after):\n        change = np.vectorize(abs)(np.subtract(before,after))\n        morethan1 = np.where(change>1)[0]\n        return morethan1.size\n    return (movemorethan1(qv,qw)/v.size)\n    #return the proportion",
      "execution_count": 108,
      "outputs": []
    },
    {
      "metadata": {
        "trusted": true
      },
      "cell_type": "markdown",
      "source": "### Question 8:"
    },
    {
      "metadata": {
        "trusted": true
      },
      "cell_type": "code",
      "source": "'''The stability of the kinetic exchange model was determined\nthrough running the simulation with an incrementation in total\nduration and determining the time value for which the last\n4 consecutive gini values were sufficiently close \n(to within 0.005 of each other). Gini value convergence or \nminimal fluctuation is an indication of exchange model\nstabilisation.'''\ndef wealthstabilisation():\n    i=6 #know from above graph that less than 6 timesteps\n        #definitely does not lead to a limiting gini value\n    (ws,gs) = sim(500,i)\n    def convergence(gs):\n        elastgs = np.array([gs[-2],gs[-4]])\n        olastgs = np.array([gs[-1],gs[-3]])\n        if np.allclose(olastgs,elastgs,atol=0.005):\n            return True\n        else:\n            return False\n    gss=gs\n    while(not convergence(gss)):\n        (ws,gss) = successivesim(ws,gss,i)\n    return i\n\n'''By virtue of the inherent instability of the exchange model\nand the gini calculation, the termination value was found on\nmulitple occasions and a mean calculated. A sampe of 200\nT values was used for an average.'''\ndef termvalaverage():\n    x=np.array([])\n    for i in range(0,200):\n        x=np.append(x,wealthstabilisation())\n    return np.mean(x)\n\n\naT = termvalaverage() #assigning the variable T to the value of time for kinetic exchange stabilisation",
      "execution_count": 11,
      "outputs": []
    },
    {
      "metadata": {},
      "cell_type": "markdown",
      "source": "### Question 9:"
    },
    {
      "metadata": {
        "trusted": true
      },
      "cell_type": "code",
      "source": "'''Forming a vector of mobility values across incrementations in timestep from that of stabilisation of the kinetic exchange model.'''\ndef wealthafterstability():\n    T = math.floor(aT)\n    (wT,gT) = sim(500000,T)\n    #the vector containing the proportion that move by more than 1 qunitle value\n    quintilefraction = np.ones(20)\n    #20 timesteps were applied to the stabilisation value\n    for i in range(1,21):\n        (wTt,gTt) = successivesim(wT,gT,i)\n        quintilefraction[i-1] = mobility(wT,wTt)\n    return quintilefraction\n\nys = wealthafterstability()\nprint(ys)",
      "execution_count": 162,
      "outputs": [
        {
          "output_type": "stream",
          "text": "[0.       0.29122  0.401476 0.443374 0.462234 0.471904 0.475628 0.477848\n 0.478482 0.478548 0.478972 0.48041  0.480558 0.47902  0.479366 0.480466\n 0.479512 0.48075  0.47971  0.480368]\n",
          "name": "stdout"
        }
      ]
    },
    {
      "metadata": {
        "trusted": true
      },
      "cell_type": "code",
      "source": "#corresponding graphical plot\nplt.plot(np.arange(0,20), ys, linestyle=\"-\",linewidth=1,color='red')\nplt.ylabel(\"Proportion of individuals that move more than 1 wealth quintile\")\nplt.xlabel(\"Timestep\")\nplt.axis([0,20,0,1])\nplt.show()",
      "execution_count": 165,
      "outputs": [
        {
          "output_type": "display_data",
          "data": {
            "image/png": "[encoded data removed]",
            "text/plain": "<Figure size 432x288 with 1 Axes>"
          },
          "metadata": {
            "needs_background": "light"
          }
        }
      ]
    }
  ],
  "metadata": {
    "kernelspec": {
      "name": "python36",
      "display_name": "Python 3.6",
      "language": "python"
    },
    "language_info": {
      "mimetype": "text/x-python",
      "nbconvert_exporter": "python",
      "name": "python",
      "pygments_lexer": "ipython3",
      "version": "3.6.6",
      "file_extension": ".py",
      "codemirror_mode": {
        "version": 3,
        "name": "ipython"
      }
    }
  },
  "nbformat": 4,
  "nbformat_minor": 1
}